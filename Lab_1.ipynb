{
  "nbformat": 4,
  "nbformat_minor": 0,
  "metadata": {
    "colab": {
      "name": "Lab_1.ipynb",
      "provenance": [],
      "collapsed_sections": [],
      "include_colab_link": true
    },
    "kernelspec": {
      "name": "python3",
      "display_name": "Python 3"
    }
  },
  "cells": [
    {
      "cell_type": "markdown",
      "metadata": {
        "id": "view-in-github",
        "colab_type": "text"
      },
      "source": [
        "<a href=\"https://colab.research.google.com/github/SnehaValia99/Labwork_NLP/blob/master/Lab_1.ipynb\" target=\"_parent\"><img src=\"https://colab.research.google.com/assets/colab-badge.svg\" alt=\"Open In Colab\"/></a>"
      ]
    },
    {
      "cell_type": "code",
      "metadata": {
        "id": "ZMRwahMJaYJk",
        "colab_type": "code",
        "colab": {}
      },
      "source": [
        "from nltk import word_tokenize\n",
        "from nltk.tokenize import MWETokenizer\n",
        "from nltk.stem.wordnet import WordNetLemmatizer\n",
        "import pandas as pd\n",
        "import re\n",
        "import numpy as np\n",
        "import nltk"
      ],
      "execution_count": 0,
      "outputs": []
    },
    {
      "cell_type": "code",
      "metadata": {
        "id": "3Wkilp74ae_H",
        "colab_type": "code",
        "outputId": "4fc7d644-c79d-4602-a7f9-8d2384a3c8f4",
        "colab": {
          "base_uri": "https://localhost:8080/",
          "height": 151
        }
      },
      "source": [
        "\n",
        "nltk.download('punkt')\n",
        "nltk.download('wordnet')\n",
        "nltk.download('averaged_perceptron_tagger')"
      ],
      "execution_count": 0,
      "outputs": [
        {
          "output_type": "stream",
          "text": [
            "[nltk_data] Downloading package punkt to /root/nltk_data...\n",
            "[nltk_data]   Unzipping tokenizers/punkt.zip.\n",
            "[nltk_data] Downloading package wordnet to /root/nltk_data...\n",
            "[nltk_data]   Unzipping corpora/wordnet.zip.\n",
            "[nltk_data] Downloading package averaged_perceptron_tagger to\n",
            "[nltk_data]     /root/nltk_data...\n",
            "[nltk_data]   Unzipping taggers/averaged_perceptron_tagger.zip.\n"
          ],
          "name": "stdout"
        },
        {
          "output_type": "execute_result",
          "data": {
            "text/plain": [
              "True"
            ]
          },
          "metadata": {
            "tags": []
          },
          "execution_count": 3
        }
      ]
    },
    {
      "cell_type": "code",
      "metadata": {
        "id": "dSReetmfaio0",
        "colab_type": "code",
        "colab": {}
      },
      "source": [
        "db = pd.read_json(\"http://snap.stanford.edu/data/amazon/productGraph/categoryFiles/reviews_Office_Products_5.json.gz\", lines=True)"
      ],
      "execution_count": 0,
      "outputs": []
    },
    {
      "cell_type": "code",
      "metadata": {
        "id": "EkptKdlzan0-",
        "colab_type": "code",
        "outputId": "74ba7c09-dbc8-4925-8b16-3fba044386b1",
        "colab": {
          "base_uri": "https://localhost:8080/",
          "height": 54
        }
      },
      "source": [
        "w = db.iloc[0,4]\n",
        "w"
      ],
      "execution_count": 0,
      "outputs": [
        {
          "output_type": "execute_result",
          "data": {
            "text/plain": [
              "\"I bought my first HP12C in about 1984 or so, and it served me faithfully until 2002 when I lost it while travelling.  I searched for another one to replace it, but found one difficult to come by in my area.  So, I decided to buy up and purchased an HP 49G.  What a mistake!  I know that many people view the HP 49G (now 49G+) as the flagship of the HP line, but for me that was a disaster.The 49G may be powerful, but using it is extremely counterintuitive...and the manual was sketchy at best.  The 12C, on the other hand, does what I need in a way that makes good sense to me.If you are looking for a solid, reliable calculator, the HP12C may be for you.  It's programmable.  It does basic statistics well, and many business applications too.  The manual makes sense; you will be up and running in short order.I'm ready to set my 49G aside and move back to my old friend.  I didn't even have to replace the batteries in well over a decade of use!HP 12C, I'm coming home!\""
            ]
          },
          "metadata": {
            "tags": []
          },
          "execution_count": 6
        }
      ]
    },
    {
      "cell_type": "code",
      "metadata": {
        "id": "XIdVrx9uavwu",
        "colab_type": "code",
        "colab": {}
      },
      "source": [
        "def n_v_ratio(db): \n",
        "    w = db['reviewText']\n",
        "    w=w.lower()\n",
        "    token = word_tokenize(w)\n",
        "    tags = nltk.pos_tag(token)\n",
        "    nouns = []\n",
        "    verbs = []\n",
        "    for tup in tags:\n",
        "        \n",
        "        if 'nn' in tup[1].lower():\n",
        "            nouns.append(tup[0])\n",
        "        elif 'vb' in tup[1].lower():\n",
        "            verbs.append(tup[0])\n",
        "    try:\n",
        "        ratio = len(nouns)/len(verbs)\n",
        "    except ZeroDivisionError:\n",
        "        ratio = 'inf'\n",
        "    return {'Nouns': nouns, 'Number of Nouns': len(nouns),'Verbs': verbs, 'Number of Verbs': len(verbs), 'Ratio': ratio}"
      ],
      "execution_count": 0,
      "outputs": []
    },
    {
      "cell_type": "code",
      "metadata": {
        "id": "ri4XQioQa3rj",
        "colab_type": "code",
        "colab": {}
      },
      "source": [
        "\n",
        "db['sentiment'] = db[:2000].apply(n_v_ratio, axis=1)"
      ],
      "execution_count": 0,
      "outputs": []
    },
    {
      "cell_type": "code",
      "metadata": {
        "id": "fTKj__nCa6yY",
        "colab_type": "code",
        "outputId": "00d1ce4d-fbfb-4da4-c4f7-47b629b90d44",
        "colab": {
          "base_uri": "https://localhost:8080/",
          "height": 118
        }
      },
      "source": [
        "\n",
        "db['sentiment'].head()"
      ],
      "execution_count": 0,
      "outputs": [
        {
          "output_type": "execute_result",
          "data": {
            "text/plain": [
              "0    {'Nouns': ['i', 'hp12c', 'i', 'i', 'area', 'i'...\n",
              "1    {'Nouns': ['review', 'share', 'views', 'workho...\n",
              "2    {'Nouns': ['i', 'hp', 'years', 'hp', 'years', ...\n",
              "3    {'Nouns': ['i', 'finance', 'stuff', 'time-valu...\n",
              "4    {'Nouns': ['calculations', 'cash', 'flows', 'i...\n",
              "Name: sentiment, dtype: object"
            ]
          },
          "metadata": {
            "tags": []
          },
          "execution_count": 14
        }
      ]
    },
    {
      "cell_type": "code",
      "metadata": {
        "id": "9eGwJjvRa9No",
        "colab_type": "code",
        "outputId": "b1941c50-517f-4b27-c3ae-f633f7b78a8b",
        "colab": {
          "base_uri": "https://localhost:8080/",
          "height": 1000
        }
      },
      "source": [
        "db['sentiment'][0]"
      ],
      "execution_count": 0,
      "outputs": [
        {
          "output_type": "execute_result",
          "data": {
            "text/plain": [
              "{'Nouns': ['i',\n",
              "  'hp12c',\n",
              "  'i',\n",
              "  'i',\n",
              "  'area',\n",
              "  'i',\n",
              "  'hp',\n",
              "  'mistake',\n",
              "  'i',\n",
              "  'people',\n",
              "  'hp',\n",
              "  'flagship',\n",
              "  'hp',\n",
              "  'line',\n",
              "  'manual',\n",
              "  'hand',\n",
              "  'way',\n",
              "  'sense',\n",
              "  'calculator',\n",
              "  'hp12c',\n",
              "  'statistics',\n",
              "  'business',\n",
              "  'applications',\n",
              "  'sense',\n",
              "  'order.i',\n",
              "  'friend',\n",
              "  'i',\n",
              "  'batteries',\n",
              "  'decade',\n",
              "  'use',\n",
              "  'hp',\n",
              "  'home'],\n",
              " 'Number of Nouns': 32,\n",
              " 'Number of Verbs': 40,\n",
              " 'Ratio': 0.8,\n",
              " 'Verbs': ['bought',\n",
              "  'served',\n",
              "  'lost',\n",
              "  'travelling',\n",
              "  'searched',\n",
              "  'replace',\n",
              "  'found',\n",
              "  'come',\n",
              "  'decided',\n",
              "  'buy',\n",
              "  'purchased',\n",
              "  'know',\n",
              "  'view',\n",
              "  'was',\n",
              "  'be',\n",
              "  'using',\n",
              "  'is',\n",
              "  'was',\n",
              "  'sketchy',\n",
              "  'does',\n",
              "  'i',\n",
              "  'need',\n",
              "  'makes',\n",
              "  'me.if',\n",
              "  'are',\n",
              "  'looking',\n",
              "  'be',\n",
              "  \"'s\",\n",
              "  'does',\n",
              "  'makes',\n",
              "  'be',\n",
              "  'running',\n",
              "  \"'m\",\n",
              "  'set',\n",
              "  'move',\n",
              "  'did',\n",
              "  'have',\n",
              "  'replace',\n",
              "  \"'m\",\n",
              "  'coming']}"
            ]
          },
          "metadata": {
            "tags": []
          },
          "execution_count": 15
        }
      ]
    }
  ]
}